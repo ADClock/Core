{
 "cells": [
  {
   "cell_type": "code",
   "execution_count": 10,
   "metadata": {
    "scrolled": true
   },
   "outputs": [
    {
     "name": "stdout",
     "output_type": "stream",
     "text": [
      "[0 1 0 1 0 1 0 1 0 1 0 1 0 1 0 1 0 1 0 1 0 1 0 1 0 1 0 1]\n"
     ]
    },
    {
     "data": {
      "image/png": "[encoded data removed]",
      "text/plain": [
       "<Figure size 432x288 with 1 Axes>"
      ]
     },
     "metadata": {
      "needs_background": "light"
     },
     "output_type": "display_data"
    }
   ],
   "source": [
    "import matplotlib.pyplot as plt\n",
    "import numpy as np\n",
    "\n",
    "def my_lines(ax, pos, *args, **kwargs):\n",
    "    if ax == 'x':\n",
    "        for p in pos:\n",
    "            plt.axvline(p, *args, **kwargs)\n",
    "    else:\n",
    "        for p in pos:\n",
    "            plt.axhline(p, *args, **kwargs)\n",
    "\n",
    "bits = [0,1,0,1,0,0,1,1,1,0,0,1,0,0]\n",
    "data = np.repeat(bits, 2)\n",
    "clock = 1 - (np.arange(len(data)) % 2)\n",
    "response = (np.arange(len(data)) % 2)\n",
    "print(response)\n",
    "data = np.repeat(data, 2)\n",
    "clock = np.repeat(clock, 2)\n",
    "response = np.repeat(response, 2)\n",
    "response = np.delete(np.append(response, 0), 0)\n",
    "t = 0.25 * np.arange(len(data))\n",
    "\n",
    "#plt.hold(True)\n",
    "my_lines('x', range(14), color='.5', linewidth=2)\n",
    "my_lines('y', [0, 2, 4], color='.5', linewidth=2)\n",
    "plt.step(t, clock + 4, 'r', linewidth = 2, where='post')\n",
    "plt.step(t, data + 2, 'r', linewidth = 2, where='post')\n",
    "plt.step(t, response, 'r', linewidth = 2, where='post')\n",
    "plt.ylim([-1,6])\n",
    "\n",
    "for tbit, bit in enumerate(bits):\n",
    "    plt.text(tbit + 0.3, 1.5, str(bit))\n",
    "\n",
    "# Beschrift der Kurven\n",
    "plt.text(-2.5, 4.75, 'clock',weight='bold')\n",
    "plt.text(-2.5, 2.75, 'data',weight='bold')\n",
    "plt.text(-2.5, 0.75, 'response',weight='bold')\n",
    "    \n",
    "plt.gca().axis('off')\n",
    "#plt.savefig('ad-secure.png', dpi=600)\n",
    "plt.show()"
   ]
  },
  {
   "cell_type": "code",
   "execution_count": 20,
   "metadata": {},
   "outputs": [
    {
     "name": "stdout",
     "output_type": "stream",
     "text": [
      "Bits\n",
      "[0, 1, 0, 1, 0, 0, 1, 1, 1, 0, 0, 1, 0, 0]\n",
      "Data\n",
      "[0 0 0 0 0 0 0 0 0 0 0 0 1 1 1 1 1 1 1 1 0 0 0 0 0 0 0 0]\n",
      "Data2\n",
      "[1 1 1 1 1 1 1 1 0 0 0 0 1 1 1 1 0 0 0 0 1 1 1 1 0 0 0 0]\n",
      "Clock\n",
      "[1 1 0 0 1 1 0 0 1 1 0 0 1 1 0 0 1 1 0 0 1 1 0 0 1 1 0 0]\n"
     ]
    },
    {
     "ename": "TypeError",
     "evalue": "'int' object is not subscriptable",
     "output_type": "error",
     "traceback": [
      "\u001b[1;31m---------------------------------------------------------------------------\u001b[0m",
      "\u001b[1;31mTypeError\u001b[0m                                 Traceback (most recent call last)",
      "\u001b[1;32m<ipython-input-20-cd795b8c3f47>\u001b[0m in \u001b[0;36m<module>\u001b[1;34m\u001b[0m\n\u001b[0;32m     41\u001b[0m \u001b[1;33m\u001b[0m\u001b[0m\n\u001b[0;32m     42\u001b[0m \u001b[1;32mfor\u001b[0m \u001b[0mtbit\u001b[0m \u001b[1;32min\u001b[0m \u001b[0mrange\u001b[0m\u001b[1;33m(\u001b[0m\u001b[1;36m0\u001b[0m\u001b[1;33m,\u001b[0m\u001b[1;36m14\u001b[0m\u001b[1;33m,\u001b[0m\u001b[1;36m2\u001b[0m\u001b[1;33m)\u001b[0m\u001b[1;33m:\u001b[0m\u001b[1;33m\u001b[0m\u001b[1;33m\u001b[0m\u001b[0m\n\u001b[1;32m---> 43\u001b[1;33m     \u001b[0mprint\u001b[0m\u001b[1;33m(\u001b[0m\u001b[1;33m[\u001b[0m\u001b[0mbit\u001b[0m\u001b[1;33m[\u001b[0m\u001b[0mtbit\u001b[0m\u001b[1;33m]\u001b[0m\u001b[1;33m]\u001b[0m\u001b[1;33m)\u001b[0m\u001b[1;33m\u001b[0m\u001b[1;33m\u001b[0m\u001b[0m\n\u001b[0m\u001b[0;32m     44\u001b[0m     \u001b[0mplt\u001b[0m\u001b[1;33m.\u001b[0m\u001b[0mtext\u001b[0m\u001b[1;33m(\u001b[0m\u001b[0mtbit\u001b[0m \u001b[1;33m+\u001b[0m \u001b[1;36m0.3\u001b[0m\u001b[1;33m,\u001b[0m \u001b[1;36m1.5\u001b[0m\u001b[1;33m,\u001b[0m \u001b[0mstr\u001b[0m\u001b[1;33m(\u001b[0m\u001b[0mbit\u001b[0m\u001b[1;33m[\u001b[0m\u001b[0mtbit\u001b[0m\u001b[1;33m]\u001b[0m\u001b[1;33m)\u001b[0m\u001b[1;33m)\u001b[0m\u001b[1;33m\u001b[0m\u001b[1;33m\u001b[0m\u001b[0m\n\u001b[0;32m     45\u001b[0m \u001b[1;33m\u001b[0m\u001b[0m\n",
      "\u001b[1;31mTypeError\u001b[0m: 'int' object is not subscriptable"
     ]
    },
    {
     "data": {
      "image/png": "[encoded data removed]",
      "text/plain": [
       "<Figure size 432x288 with 1 Axes>"
      ]
     },
     "metadata": {
      "needs_background": "light"
     },
     "output_type": "display_data"
    }
   ],
   "source": [
    "import matplotlib.pyplot as plt\n",
    "import numpy as np\n",
    "\n",
    "def my_lines(ax, pos, *args, **kwargs):\n",
    "    if ax == 'x':\n",
    "        for p in pos:\n",
    "            plt.axvline(p, *args, **kwargs)\n",
    "    else:\n",
    "        for p in pos:\n",
    "            plt.axhline(p, *args, **kwargs)\n",
    "\n",
    "bits = [0,1,0,1,0,0,1,1,1,0,0,1,0,0]\n",
    "data = np.repeat(bits[0::2], 2)\n",
    "data2 = np.repeat(bits[1::2], 2)\n",
    "clock = 1 - (np.arange(len(data)) % 2)\n",
    "data = np.repeat(data, 2)\n",
    "data2 = np.repeat(data2, 2)\n",
    "clock = np.repeat(clock, 2)\n",
    "t = 0.25 * np.arange(len(data))\n",
    "\n",
    "print('Bits')\n",
    "print(bits)\n",
    "print('Data')\n",
    "print(data)\n",
    "print('Data2')\n",
    "print(data2)\n",
    "print('Clock')\n",
    "print(clock)\n",
    "\n",
    "\n",
    "#plt.hold(True)\n",
    "my_lines('x', range(7), color='.5', linewidth=2)\n",
    "my_lines('y', [0, 2, 4], color='.5', linewidth=2)\n",
    "plt.step(t, clock + 4, 'r', linewidth = 2, where='post')\n",
    "plt.step(t, data + 2, 'r', linewidth = 2, where='post')\n",
    "plt.step(t, data2, 'r', linewidth = 2, where='post')\n",
    "plt.ylim([-1,6])\n",
    "\n",
    "for tbit, bit in enumerate(bits):\n",
    "    if tbit % 2 == 0:\n",
    "        plt.text(tbit + 0.3, 1.5, str(bit))\n",
    "    else:\n",
    "        plt.text(tbit + 0.6, 1.5, str(bit))\n",
    " \n",
    "    \n",
    "# Beschrift der Kurven\n",
    "plt.text(-2.5, 4.75, 'clock',weight='bold')\n",
    "plt.text(-2.5, 2.75, 'data 1',weight='bold')\n",
    "plt.text(-2.5, 0.75, 'data 2',weight='bold')\n",
    "    \n",
    "plt.gca().axis('off')\n",
    "#plt.savefig('ad-secure.png', dpi=600)\n",
    "plt.show()"
   ]
  }
 ],
 "metadata": {
  "kernelspec": {
   "display_name": "Python 3",
   "language": "python",
   "name": "python3"
  },
  "language_info": {
   "codemirror_mode": {
    "name": "ipython",
    "version": 3
   },
   "file_extension": ".py",
   "mimetype": "text/x-python",
   "name": "python",
   "nbconvert_exporter": "python",
   "pygments_lexer": "ipython3",
   "version": "3.7.4"
  }
 },
 "nbformat": 4,
 "nbformat_minor": 2
}
