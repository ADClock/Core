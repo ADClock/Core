{
 "cells": [
  {
   "cell_type": "code",
   "execution_count": 77,
   "metadata": {},
   "outputs": [
    {
     "name": "stdout",
     "output_type": "stream",
     "text": [
      "[0 1 0 1 0 1 0 1 0 1 0 1 0 1 0 1 0 1 0 1 0 1 0 1 0 1]\n"
     ]
    },
    {
     "data": {
      "image/png": "[encoded data removed]",
      "text/plain": [
       "<Figure size 432x288 with 1 Axes>"
      ]
     },
     "metadata": {
      "needs_background": "light"
     },
     "output_type": "display_data"
    }
   ],
   "source": [
    "import matplotlib.pyplot as plt\n",
    "import numpy as np\n",
    "\n",
    "def my_lines(ax, pos, *args, **kwargs):\n",
    "    if ax == 'x':\n",
    "        for p in pos:\n",
    "            plt.axvline(p, *args, **kwargs)\n",
    "    else:\n",
    "        for p in pos:\n",
    "            plt.axhline(p, *args, **kwargs)\n",
    "\n",
    "bits = [0,1,0,1,0,0,1,1,1,0,0,1,0]\n",
    "data = np.repeat(bits, 2)\n",
    "clock = 1 - (np.arange(len(data)) % 2)\n",
    "response = (np.arange(len(data)) % 2)\n",
    "print(response)\n",
    "data = np.repeat(data, 2)\n",
    "clock = np.repeat(clock, 2)\n",
    "response = np.repeat(response, 2)\n",
    "response = np.delete(np.append(response, 0), 0)\n",
    "t = 0.25 * np.arange(len(data))\n",
    "\n",
    "#plt.hold(True)\n",
    "my_lines('x', range(13), color='.5', linewidth=2)\n",
    "my_lines('y', [0, 2, 4], color='.5', linewidth=2)\n",
    "plt.step(t, clock + 4, 'r', linewidth = 2, where='post')\n",
    "plt.step(t, data + 2, 'r', linewidth = 2, where='post')\n",
    "plt.step(t, response, 'r', linewidth = 2, where='post')\n",
    "plt.ylim([-1,6])\n",
    "\n",
    "for tbit, bit in enumerate(bits):\n",
    "    plt.text(tbit + 0.3, 1.5, str(bit))\n",
    "\n",
    "# Beschrift der Kurven\n",
    "plt.text(-2.5, 4.75, 'clock',weight='bold')\n",
    "plt.text(-2.5, 2.75, 'data',weight='bold')\n",
    "plt.text(-2.5, 0.75, 'response',weight='bold')\n",
    "    \n",
    "plt.gca().axis('off')\n",
    "plt.savefig('ad-secure.png', dpi=600)\n",
    "plt.show()"
   ]
  }
 ],
 "metadata": {
  "kernelspec": {
   "display_name": "Python 3",
   "language": "python",
   "name": "python3"
  },
  "language_info": {
   "codemirror_mode": {
    "name": "ipython",
    "version": 3
   },
   "file_extension": ".py",
   "mimetype": "text/x-python",
   "name": "python",
   "nbconvert_exporter": "python",
   "pygments_lexer": "ipython3",
   "version": "3.7.4"
  }
 },
 "nbformat": 4,
 "nbformat_minor": 2
}
